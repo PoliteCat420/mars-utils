{
 "cells": [
  {
   "cell_type": "code",
   "execution_count": 1,
   "metadata": {},
   "outputs": [],
   "source": [
    "#All Imports\n",
    "import warnings\n",
    "warnings.filterwarnings('ignore')\n",
    "import sys\n",
    "sys.path.insert(0,'../')\n",
    "import numpy as np\n",
    "import matplotlib\n",
    "%matplotlib inline\n",
    "import pylab as pl\n",
    "import mag"
   ]
  },
  {
   "cell_type": "code",
   "execution_count": 2,
   "metadata": {},
   "outputs": [
    {
     "name": "stdout",
     "output_type": "stream",
     "text": [
      "Retriving urls for mag\n",
      "['2016', '2017', '2020', '2021', '2019', '2018', '2014', '2015']\n"
     ]
    }
   ],
   "source": [
    "urls = mag.getDataUrls(toLoadUrls=True)"
   ]
  },
  {
   "cell_type": "code",
   "execution_count": 19,
   "metadata": {},
   "outputs": [
    {
     "name": "stdout",
     "output_type": "stream",
     "text": [
      "2016-02-16 https://pds-ppi.igpp.ucla.edu/ditdos/download?id=pds://PPI/maven.mag.calibrated/data/ss/highres/2016/02/mvn_mag_l2_2016047ss_20160216_v01_r01.sts\n"
     ]
    }
   ],
   "source": [
    "for index,row in urls.iterrows():\n",
    "    print(str(index).split(' ')[0],row['Url'])\n",
    "    break"
   ]
  },
  {
   "cell_type": "code",
   "execution_count": 11,
   "metadata": {},
   "outputs": [
    {
     "name": "stdout",
     "output_type": "stream",
     "text": [
      "Url\n"
     ]
    }
   ],
   "source": [
    "for date in urls[2:]:\n",
    "    print(date)\n",
    "    break"
   ]
  },
  {
   "cell_type": "code",
   "execution_count": 3,
   "metadata": {},
   "outputs": [
    {
     "data": {
      "text/plain": [
       "'https://pds-ppi.igpp.ucla.edu/ditdos/download?id=pds://PPI/maven.mag.calibrated/data/ss/highres/2015/08/mvn_mag_l2_2015241ss_20150829_v01_r02.sts'"
      ]
     },
     "execution_count": 3,
     "metadata": {},
     "output_type": "execute_result"
    }
   ],
   "source": [
    "urls.loc['2015-08-29']['Url'].tolist()[0]"
   ]
  },
  {
   "cell_type": "code",
   "execution_count": null,
   "metadata": {},
   "outputs": [],
   "source": [
    "https://pds-ppi.igpp.ucla.edu/ditdos/download?id=pds://PPI/maven.mag.calibrated/data/ss/highres/2015/08/mvn_mag_l2_2015213ss_20150801_v01_r02.sts"
   ]
  },
  {
   "cell_type": "code",
   "execution_count": null,
   "metadata": {},
   "outputs": [],
   "source": [
    "https://pds-ppi.igpp.ucla.edu/search/view/?f=yes&id=pds://PPI/maven.mag.calibrated/data/ss/highres/2015/08/mvn_mag_l2_2015241ss_20150829_v01_r02&o=1"
   ]
  },
  {
   "cell_type": "code",
   "execution_count": 4,
   "metadata": {},
   "outputs": [
    {
     "name": "stdout",
     "output_type": "stream",
     "text": [
      "Downloading mag 2015-08-29\n"
     ]
    }
   ],
   "source": [
    "#date = '2015-04-03'\n",
    "date = '2015-08-29'\n",
    "dwPath = mag.download(date)"
   ]
  },
  {
   "cell_type": "code",
   "execution_count": 19,
   "metadata": {},
   "outputs": [
    {
     "data": {
      "text/plain": [
       "'/scratch/dattaraj/datta/mars-utils/Data/maven/data_temp/sci/mag/2015/08/mvn_mag_l2_2015241ss_20150829_v01_r02.tab'"
      ]
     },
     "execution_count": 19,
     "metadata": {},
     "output_type": "execute_result"
    }
   ],
   "source": [
    "dwPath"
   ]
  },
  {
   "cell_type": "code",
   "execution_count": 23,
   "metadata": {},
   "outputs": [
    {
     "data": {
      "text/html": [
       "<div>\n",
       "<style scoped>\n",
       "    .dataframe tbody tr th:only-of-type {\n",
       "        vertical-align: middle;\n",
       "    }\n",
       "\n",
       "    .dataframe tbody tr th {\n",
       "        vertical-align: top;\n",
       "    }\n",
       "\n",
       "    .dataframe thead th {\n",
       "        text-align: right;\n",
       "    }\n",
       "</style>\n",
       "<table border=\"1\" class=\"dataframe\">\n",
       "  <thead>\n",
       "    <tr style=\"text-align: right;\">\n",
       "      <th></th>\n",
       "      <th>Url</th>\n",
       "    </tr>\n",
       "    <tr>\n",
       "      <th>Date</th>\n",
       "      <th></th>\n",
       "    </tr>\n",
       "  </thead>\n",
       "  <tbody>\n",
       "    <tr>\n",
       "      <th>2018-02-22</th>\n",
       "      <td>https://pds-ppi.igpp.ucla.edu/ditdos/download?...</td>\n",
       "    </tr>\n",
       "    <tr>\n",
       "      <th>2018-02-21</th>\n",
       "      <td>https://pds-ppi.igpp.ucla.edu/ditdos/download?...</td>\n",
       "    </tr>\n",
       "    <tr>\n",
       "      <th>2018-02-09</th>\n",
       "      <td>https://pds-ppi.igpp.ucla.edu/ditdos/download?...</td>\n",
       "    </tr>\n",
       "    <tr>\n",
       "      <th>2018-02-25</th>\n",
       "      <td>https://pds-ppi.igpp.ucla.edu/ditdos/download?...</td>\n",
       "    </tr>\n",
       "    <tr>\n",
       "      <th>2018-02-24</th>\n",
       "      <td>https://pds-ppi.igpp.ucla.edu/ditdos/download?...</td>\n",
       "    </tr>\n",
       "    <tr>\n",
       "      <th>...</th>\n",
       "      <td>...</td>\n",
       "    </tr>\n",
       "    <tr>\n",
       "      <th>2016-11-04</th>\n",
       "      <td>https://pds-ppi.igpp.ucla.edu/ditdos/download?...</td>\n",
       "    </tr>\n",
       "    <tr>\n",
       "      <th>2016-11-12</th>\n",
       "      <td>https://pds-ppi.igpp.ucla.edu/ditdos/download?...</td>\n",
       "    </tr>\n",
       "    <tr>\n",
       "      <th>2016-11-01</th>\n",
       "      <td>https://pds-ppi.igpp.ucla.edu/ditdos/download?...</td>\n",
       "    </tr>\n",
       "    <tr>\n",
       "      <th>2016-11-26</th>\n",
       "      <td>https://pds-ppi.igpp.ucla.edu/ditdos/download?...</td>\n",
       "    </tr>\n",
       "    <tr>\n",
       "      <th>2016-11-28</th>\n",
       "      <td>https://pds-ppi.igpp.ucla.edu/ditdos/download?...</td>\n",
       "    </tr>\n",
       "  </tbody>\n",
       "</table>\n",
       "<p>2365 rows × 1 columns</p>\n",
       "</div>"
      ],
      "text/plain": [
       "                                                          Url\n",
       "Date                                                         \n",
       "2018-02-22  https://pds-ppi.igpp.ucla.edu/ditdos/download?...\n",
       "2018-02-21  https://pds-ppi.igpp.ucla.edu/ditdos/download?...\n",
       "2018-02-09  https://pds-ppi.igpp.ucla.edu/ditdos/download?...\n",
       "2018-02-25  https://pds-ppi.igpp.ucla.edu/ditdos/download?...\n",
       "2018-02-24  https://pds-ppi.igpp.ucla.edu/ditdos/download?...\n",
       "...                                                       ...\n",
       "2016-11-04  https://pds-ppi.igpp.ucla.edu/ditdos/download?...\n",
       "2016-11-12  https://pds-ppi.igpp.ucla.edu/ditdos/download?...\n",
       "2016-11-01  https://pds-ppi.igpp.ucla.edu/ditdos/download?...\n",
       "2016-11-26  https://pds-ppi.igpp.ucla.edu/ditdos/download?...\n",
       "2016-11-28  https://pds-ppi.igpp.ucla.edu/ditdos/download?...\n",
       "\n",
       "[2365 rows x 1 columns]"
      ]
     },
     "execution_count": 23,
     "metadata": {},
     "output_type": "execute_result"
    }
   ],
   "source": [
    "urls"
   ]
  },
  {
   "cell_type": "code",
   "execution_count": null,
   "metadata": {},
   "outputs": [],
   "source": []
  }
 ],
 "metadata": {
  "kernelspec": {
   "display_name": "Python 3 (ipykernel)",
   "language": "python",
   "name": "python3"
  },
  "language_info": {
   "codemirror_mode": {
    "name": "ipython",
    "version": 3
   },
   "file_extension": ".py",
   "mimetype": "text/x-python",
   "name": "python",
   "nbconvert_exporter": "python",
   "pygments_lexer": "ipython3",
   "version": "3.9.7"
  }
 },
 "nbformat": 4,
 "nbformat_minor": 4
}
